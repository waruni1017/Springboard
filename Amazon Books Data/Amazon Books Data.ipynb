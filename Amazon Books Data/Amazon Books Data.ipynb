{
 "cells": [
  {
   "cell_type": "markdown",
   "metadata": {},
   "source": [
    "# Analyzing Bestselling Books on Amazon "
   ]
  },
  {
   "cell_type": "markdown",
   "metadata": {},
   "source": [
    "The dataset contains top 50 best selling books of each year from 2009 to 2019. As it is data of 10 years and 50 books from each year, we have 550 books in the dataset. Please note that the books are not unique."
   ]
  },
  {
   "cell_type": "markdown",
   "metadata": {},
   "source": [
    "Few questions to ask:\n",
    "\n",
    "   1. Which book and the author had the most number of reviews for each year?\n",
    "   2. Each year, which books and author had the highest user ratings?\n",
    "   3. Are there books which appear on the top 50 list for more than one year?\n",
    "   4. In each year, fiction/nonfiction books are highest?\n",
    "   5. Are there any correlations between reviews, User Rating, and Price?\n",
    "   6. What are the average user ratings, average prices, and average number of reviews for each year?"
   ]
  },
  {
   "cell_type": "code",
   "execution_count": 1,
   "metadata": {},
   "outputs": [],
   "source": [
    "import pandas as pd\n",
    "import matplotlib.pyplot as plt\n",
    "import numpy as np\n",
    "import seaborn as sns\n",
    "sns.set(rc={'axes.facecolor':'white', 'figure.facecolor':'lightsteelblue'})\n",
    "#plt.rc_context({'axes.edgecolor':'orange', 'xtick.color':'white', 'ytick.color':'white', 'figure.facecolor':'white'})"
   ]
  },
  {
   "cell_type": "code",
   "execution_count": 2,
   "metadata": {
    "scrolled": true
   },
   "outputs": [
    {
     "data": {
      "text/html": [
       "<div>\n",
       "<style scoped>\n",
       "    .dataframe tbody tr th:only-of-type {\n",
       "        vertical-align: middle;\n",
       "    }\n",
       "\n",
       "    .dataframe tbody tr th {\n",
       "        vertical-align: top;\n",
       "    }\n",
       "\n",
       "    .dataframe thead th {\n",
       "        text-align: right;\n",
       "    }\n",
       "</style>\n",
       "<table border=\"1\" class=\"dataframe\">\n",
       "  <thead>\n",
       "    <tr style=\"text-align: right;\">\n",
       "      <th></th>\n",
       "      <th>Name</th>\n",
       "      <th>Author</th>\n",
       "      <th>User Rating</th>\n",
       "      <th>Reviews</th>\n",
       "      <th>Price</th>\n",
       "      <th>Year</th>\n",
       "      <th>Genre</th>\n",
       "    </tr>\n",
       "  </thead>\n",
       "  <tbody>\n",
       "    <tr>\n",
       "      <th>0</th>\n",
       "      <td>10-Day Green Smoothie Cleanse</td>\n",
       "      <td>JJ Smith</td>\n",
       "      <td>4.7</td>\n",
       "      <td>17350</td>\n",
       "      <td>8</td>\n",
       "      <td>2016</td>\n",
       "      <td>Non Fiction</td>\n",
       "    </tr>\n",
       "    <tr>\n",
       "      <th>1</th>\n",
       "      <td>11/22/63: A Novel</td>\n",
       "      <td>Stephen King</td>\n",
       "      <td>4.6</td>\n",
       "      <td>2052</td>\n",
       "      <td>22</td>\n",
       "      <td>2011</td>\n",
       "      <td>Fiction</td>\n",
       "    </tr>\n",
       "    <tr>\n",
       "      <th>2</th>\n",
       "      <td>12 Rules for Life: An Antidote to Chaos</td>\n",
       "      <td>Jordan B. Peterson</td>\n",
       "      <td>4.7</td>\n",
       "      <td>18979</td>\n",
       "      <td>15</td>\n",
       "      <td>2018</td>\n",
       "      <td>Non Fiction</td>\n",
       "    </tr>\n",
       "    <tr>\n",
       "      <th>3</th>\n",
       "      <td>1984 (Signet Classics)</td>\n",
       "      <td>George Orwell</td>\n",
       "      <td>4.7</td>\n",
       "      <td>21424</td>\n",
       "      <td>6</td>\n",
       "      <td>2017</td>\n",
       "      <td>Fiction</td>\n",
       "    </tr>\n",
       "    <tr>\n",
       "      <th>4</th>\n",
       "      <td>5,000 Awesome Facts (About Everything!) (Natio...</td>\n",
       "      <td>National Geographic Kids</td>\n",
       "      <td>4.8</td>\n",
       "      <td>7665</td>\n",
       "      <td>12</td>\n",
       "      <td>2019</td>\n",
       "      <td>Non Fiction</td>\n",
       "    </tr>\n",
       "  </tbody>\n",
       "</table>\n",
       "</div>"
      ],
      "text/plain": [
       "                                                Name  \\\n",
       "0                      10-Day Green Smoothie Cleanse   \n",
       "1                                  11/22/63: A Novel   \n",
       "2            12 Rules for Life: An Antidote to Chaos   \n",
       "3                             1984 (Signet Classics)   \n",
       "4  5,000 Awesome Facts (About Everything!) (Natio...   \n",
       "\n",
       "                     Author  User Rating  Reviews  Price  Year        Genre  \n",
       "0                  JJ Smith          4.7    17350      8  2016  Non Fiction  \n",
       "1              Stephen King          4.6     2052     22  2011      Fiction  \n",
       "2        Jordan B. Peterson          4.7    18979     15  2018  Non Fiction  \n",
       "3             George Orwell          4.7    21424      6  2017      Fiction  \n",
       "4  National Geographic Kids          4.8     7665     12  2019  Non Fiction  "
      ]
     },
     "execution_count": 2,
     "metadata": {},
     "output_type": "execute_result"
    }
   ],
   "source": [
    "df = pd.read_csv('bestsellers with categories.csv')\n",
    "df.head()"
   ]
  },
  {
   "cell_type": "code",
   "execution_count": 3,
   "metadata": {},
   "outputs": [
    {
     "data": {
      "text/plain": [
       "(550, 7)"
      ]
     },
     "execution_count": 3,
     "metadata": {},
     "output_type": "execute_result"
    }
   ],
   "source": [
    "df.shape"
   ]
  },
  {
   "cell_type": "markdown",
   "metadata": {},
   "source": [
    "The dataset has 550 books and 7 columns. "
   ]
  },
  {
   "cell_type": "code",
   "execution_count": 4,
   "metadata": {},
   "outputs": [
    {
     "data": {
      "text/html": [
       "<div>\n",
       "<style scoped>\n",
       "    .dataframe tbody tr th:only-of-type {\n",
       "        vertical-align: middle;\n",
       "    }\n",
       "\n",
       "    .dataframe tbody tr th {\n",
       "        vertical-align: top;\n",
       "    }\n",
       "\n",
       "    .dataframe thead th {\n",
       "        text-align: right;\n",
       "    }\n",
       "</style>\n",
       "<table border=\"1\" class=\"dataframe\">\n",
       "  <thead>\n",
       "    <tr style=\"text-align: right;\">\n",
       "      <th></th>\n",
       "      <th>User Rating</th>\n",
       "      <th>Reviews</th>\n",
       "      <th>Price</th>\n",
       "      <th>Year</th>\n",
       "    </tr>\n",
       "  </thead>\n",
       "  <tbody>\n",
       "    <tr>\n",
       "      <th>count</th>\n",
       "      <td>550.000000</td>\n",
       "      <td>550.000000</td>\n",
       "      <td>550.000000</td>\n",
       "      <td>550.000000</td>\n",
       "    </tr>\n",
       "    <tr>\n",
       "      <th>mean</th>\n",
       "      <td>4.618364</td>\n",
       "      <td>11953.281818</td>\n",
       "      <td>13.100000</td>\n",
       "      <td>2014.000000</td>\n",
       "    </tr>\n",
       "    <tr>\n",
       "      <th>std</th>\n",
       "      <td>0.226980</td>\n",
       "      <td>11731.132017</td>\n",
       "      <td>10.842262</td>\n",
       "      <td>3.165156</td>\n",
       "    </tr>\n",
       "    <tr>\n",
       "      <th>min</th>\n",
       "      <td>3.300000</td>\n",
       "      <td>37.000000</td>\n",
       "      <td>0.000000</td>\n",
       "      <td>2009.000000</td>\n",
       "    </tr>\n",
       "    <tr>\n",
       "      <th>25%</th>\n",
       "      <td>4.500000</td>\n",
       "      <td>4058.000000</td>\n",
       "      <td>7.000000</td>\n",
       "      <td>2011.000000</td>\n",
       "    </tr>\n",
       "    <tr>\n",
       "      <th>50%</th>\n",
       "      <td>4.700000</td>\n",
       "      <td>8580.000000</td>\n",
       "      <td>11.000000</td>\n",
       "      <td>2014.000000</td>\n",
       "    </tr>\n",
       "    <tr>\n",
       "      <th>75%</th>\n",
       "      <td>4.800000</td>\n",
       "      <td>17253.250000</td>\n",
       "      <td>16.000000</td>\n",
       "      <td>2017.000000</td>\n",
       "    </tr>\n",
       "    <tr>\n",
       "      <th>max</th>\n",
       "      <td>4.900000</td>\n",
       "      <td>87841.000000</td>\n",
       "      <td>105.000000</td>\n",
       "      <td>2019.000000</td>\n",
       "    </tr>\n",
       "  </tbody>\n",
       "</table>\n",
       "</div>"
      ],
      "text/plain": [
       "       User Rating       Reviews       Price         Year\n",
       "count   550.000000    550.000000  550.000000   550.000000\n",
       "mean      4.618364  11953.281818   13.100000  2014.000000\n",
       "std       0.226980  11731.132017   10.842262     3.165156\n",
       "min       3.300000     37.000000    0.000000  2009.000000\n",
       "25%       4.500000   4058.000000    7.000000  2011.000000\n",
       "50%       4.700000   8580.000000   11.000000  2014.000000\n",
       "75%       4.800000  17253.250000   16.000000  2017.000000\n",
       "max       4.900000  87841.000000  105.000000  2019.000000"
      ]
     },
     "execution_count": 4,
     "metadata": {},
     "output_type": "execute_result"
    }
   ],
   "source": [
    "df.describe()"
   ]
  },
  {
   "cell_type": "markdown",
   "metadata": {},
   "source": [
    "We can see that there are books with zero price. This is odd but it seems Amazon is offereing some free books as well. If you find a book you like, if it says 'read for free', then you can click on it will be available on any device to read. The prices ranges from \\\\$0 to \\\\$105 with an average book price of \\\\$13.10 and median of \\\\$11. With mean being greater than median, we can expect a slightly positively skewed(right-skewed) price distribution.\n",
    "\n",
    "Average number of reviews is 11953.28 and median is 8580. We can expect a positively skewed distribution here as well. Number of reviews ranges from 37 to 87841 which is a high range.\n",
    "\n",
    "On the other hand, user ratings ranges from 3.3 to 4.9, which is small. And the mean is 4.6 with standard deviation of 0.22. Also note that median is 4.7 and very close to the value of mean. We can expect a negatively skewed distribution with a low range. "
   ]
  },
  {
   "cell_type": "code",
   "execution_count": 5,
   "metadata": {},
   "outputs": [
    {
     "data": {
      "text/html": [
       "<div>\n",
       "<style scoped>\n",
       "    .dataframe tbody tr th:only-of-type {\n",
       "        vertical-align: middle;\n",
       "    }\n",
       "\n",
       "    .dataframe tbody tr th {\n",
       "        vertical-align: top;\n",
       "    }\n",
       "\n",
       "    .dataframe thead th {\n",
       "        text-align: right;\n",
       "    }\n",
       "</style>\n",
       "<table border=\"1\" class=\"dataframe\">\n",
       "  <thead>\n",
       "    <tr style=\"text-align: right;\">\n",
       "      <th></th>\n",
       "      <th>Name</th>\n",
       "      <th>Author</th>\n",
       "      <th>User Rating</th>\n",
       "      <th>Reviews</th>\n",
       "      <th>Price</th>\n",
       "      <th>Year</th>\n",
       "      <th>Genre</th>\n",
       "    </tr>\n",
       "  </thead>\n",
       "  <tbody>\n",
       "    <tr>\n",
       "      <th>461</th>\n",
       "      <td>The Short Second Life of Bree Tanner: An Eclip...</td>\n",
       "      <td>Stephenie Meyer</td>\n",
       "      <td>4.6</td>\n",
       "      <td>2122</td>\n",
       "      <td>0</td>\n",
       "      <td>2010</td>\n",
       "      <td>Fiction</td>\n",
       "    </tr>\n",
       "    <tr>\n",
       "      <th>42</th>\n",
       "      <td>Cabin Fever (Diary of a Wimpy Kid, Book 6)</td>\n",
       "      <td>Jeff Kinney</td>\n",
       "      <td>4.8</td>\n",
       "      <td>4505</td>\n",
       "      <td>0</td>\n",
       "      <td>2011</td>\n",
       "      <td>Fiction</td>\n",
       "    </tr>\n",
       "    <tr>\n",
       "      <th>71</th>\n",
       "      <td>Diary of a Wimpy Kid: Hard Luck, Book 8</td>\n",
       "      <td>Jeff Kinney</td>\n",
       "      <td>4.8</td>\n",
       "      <td>6812</td>\n",
       "      <td>0</td>\n",
       "      <td>2013</td>\n",
       "      <td>Fiction</td>\n",
       "    </tr>\n",
       "    <tr>\n",
       "      <th>505</th>\n",
       "      <td>To Kill a Mockingbird</td>\n",
       "      <td>Harper Lee</td>\n",
       "      <td>4.8</td>\n",
       "      <td>26234</td>\n",
       "      <td>0</td>\n",
       "      <td>2013</td>\n",
       "      <td>Fiction</td>\n",
       "    </tr>\n",
       "    <tr>\n",
       "      <th>116</th>\n",
       "      <td>Frozen (Little Golden Book)</td>\n",
       "      <td>RH Disney</td>\n",
       "      <td>4.7</td>\n",
       "      <td>3642</td>\n",
       "      <td>0</td>\n",
       "      <td>2014</td>\n",
       "      <td>Fiction</td>\n",
       "    </tr>\n",
       "    <tr>\n",
       "      <th>193</th>\n",
       "      <td>JOURNEY TO THE ICE P</td>\n",
       "      <td>RH Disney</td>\n",
       "      <td>4.6</td>\n",
       "      <td>978</td>\n",
       "      <td>0</td>\n",
       "      <td>2014</td>\n",
       "      <td>Fiction</td>\n",
       "    </tr>\n",
       "    <tr>\n",
       "      <th>219</th>\n",
       "      <td>Little Blue Truck</td>\n",
       "      <td>Alice Schertle</td>\n",
       "      <td>4.9</td>\n",
       "      <td>1884</td>\n",
       "      <td>0</td>\n",
       "      <td>2014</td>\n",
       "      <td>Fiction</td>\n",
       "    </tr>\n",
       "    <tr>\n",
       "      <th>506</th>\n",
       "      <td>To Kill a Mockingbird</td>\n",
       "      <td>Harper Lee</td>\n",
       "      <td>4.8</td>\n",
       "      <td>26234</td>\n",
       "      <td>0</td>\n",
       "      <td>2014</td>\n",
       "      <td>Fiction</td>\n",
       "    </tr>\n",
       "    <tr>\n",
       "      <th>507</th>\n",
       "      <td>To Kill a Mockingbird</td>\n",
       "      <td>Harper Lee</td>\n",
       "      <td>4.8</td>\n",
       "      <td>26234</td>\n",
       "      <td>0</td>\n",
       "      <td>2015</td>\n",
       "      <td>Fiction</td>\n",
       "    </tr>\n",
       "    <tr>\n",
       "      <th>358</th>\n",
       "      <td>The Constitution of the United States</td>\n",
       "      <td>Delegates of the Constitutional</td>\n",
       "      <td>4.8</td>\n",
       "      <td>2774</td>\n",
       "      <td>0</td>\n",
       "      <td>2016</td>\n",
       "      <td>Non Fiction</td>\n",
       "    </tr>\n",
       "    <tr>\n",
       "      <th>508</th>\n",
       "      <td>To Kill a Mockingbird</td>\n",
       "      <td>Harper Lee</td>\n",
       "      <td>4.8</td>\n",
       "      <td>26234</td>\n",
       "      <td>0</td>\n",
       "      <td>2016</td>\n",
       "      <td>Fiction</td>\n",
       "    </tr>\n",
       "    <tr>\n",
       "      <th>381</th>\n",
       "      <td>The Getaway</td>\n",
       "      <td>Jeff Kinney</td>\n",
       "      <td>4.8</td>\n",
       "      <td>5836</td>\n",
       "      <td>0</td>\n",
       "      <td>2017</td>\n",
       "      <td>Fiction</td>\n",
       "    </tr>\n",
       "  </tbody>\n",
       "</table>\n",
       "</div>"
      ],
      "text/plain": [
       "                                                  Name  \\\n",
       "461  The Short Second Life of Bree Tanner: An Eclip...   \n",
       "42          Cabin Fever (Diary of a Wimpy Kid, Book 6)   \n",
       "71             Diary of a Wimpy Kid: Hard Luck, Book 8   \n",
       "505                              To Kill a Mockingbird   \n",
       "116                        Frozen (Little Golden Book)   \n",
       "193                               JOURNEY TO THE ICE P   \n",
       "219                                  Little Blue Truck   \n",
       "506                              To Kill a Mockingbird   \n",
       "507                              To Kill a Mockingbird   \n",
       "358              The Constitution of the United States   \n",
       "508                              To Kill a Mockingbird   \n",
       "381                                        The Getaway   \n",
       "\n",
       "                               Author  User Rating  Reviews  Price  Year  \\\n",
       "461                   Stephenie Meyer          4.6     2122      0  2010   \n",
       "42                        Jeff Kinney          4.8     4505      0  2011   \n",
       "71                        Jeff Kinney          4.8     6812      0  2013   \n",
       "505                        Harper Lee          4.8    26234      0  2013   \n",
       "116                         RH Disney          4.7     3642      0  2014   \n",
       "193                         RH Disney          4.6      978      0  2014   \n",
       "219                    Alice Schertle          4.9     1884      0  2014   \n",
       "506                        Harper Lee          4.8    26234      0  2014   \n",
       "507                        Harper Lee          4.8    26234      0  2015   \n",
       "358  Delegates of the Constitutional\n",
       "          4.8     2774      0  2016   \n",
       "508                        Harper Lee          4.8    26234      0  2016   \n",
       "381                       Jeff Kinney          4.8     5836      0  2017   \n",
       "\n",
       "           Genre  \n",
       "461      Fiction  \n",
       "42       Fiction  \n",
       "71       Fiction  \n",
       "505      Fiction  \n",
       "116      Fiction  \n",
       "193      Fiction  \n",
       "219      Fiction  \n",
       "506      Fiction  \n",
       "507      Fiction  \n",
       "358  Non Fiction  \n",
       "508      Fiction  \n",
       "381      Fiction  "
      ]
     },
     "execution_count": 5,
     "metadata": {},
     "output_type": "execute_result"
    }
   ],
   "source": [
    "free_books = df[df['Price']==0]\n",
    "free_books.sort_values('Year')"
   ]
  },
  {
   "cell_type": "markdown",
   "metadata": {},
   "source": [
    "These are the books Amazon gave away for a zero price. Most of them are fictions and the interesting thing they have had good User Ratings. One could be curious why Amazon was so generous with these books. It could be for marketing purposes. The book called 'To kill a Mockingbird' by the author 'Harper Lee' has been free during the years 2013, 2014, 2015, and 2016. Another interesting thing is that eventhough this book has been in the top 50 list for four consecutive years, its' ratings or the number of reviews hasn't changed during those years. This seem odd."
   ]
  },
  {
   "cell_type": "code",
   "execution_count": 6,
   "metadata": {},
   "outputs": [
    {
     "data": {
      "text/html": [
       "<style  type=\"text/css\" >\n",
       "#T_0b8ce278_0ccb_11ec_99c5_74e54313273erow0_col0,#T_0b8ce278_0ccb_11ec_99c5_74e54313273erow1_col0,#T_0b8ce278_0ccb_11ec_99c5_74e54313273erow2_col0,#T_0b8ce278_0ccb_11ec_99c5_74e54313273erow3_col0{\n",
       "            width:  300px;\n",
       "        }</style><table id=\"T_0b8ce278_0ccb_11ec_99c5_74e54313273e\" ><thead>    <tr>        <th class=\"blank level0\" ></th>        <th class=\"col_heading level0 col0\" >Name</th>        <th class=\"col_heading level0 col1\" >Author</th>        <th class=\"col_heading level0 col2\" >Genre</th>    </tr></thead><tbody>\n",
       "                <tr>\n",
       "                        <th id=\"T_0b8ce278_0ccb_11ec_99c5_74e54313273elevel0_row0\" class=\"row_heading level0 row0\" >count</th>\n",
       "                        <td id=\"T_0b8ce278_0ccb_11ec_99c5_74e54313273erow0_col0\" class=\"data row0 col0\" >550</td>\n",
       "                        <td id=\"T_0b8ce278_0ccb_11ec_99c5_74e54313273erow0_col1\" class=\"data row0 col1\" >550</td>\n",
       "                        <td id=\"T_0b8ce278_0ccb_11ec_99c5_74e54313273erow0_col2\" class=\"data row0 col2\" >550</td>\n",
       "            </tr>\n",
       "            <tr>\n",
       "                        <th id=\"T_0b8ce278_0ccb_11ec_99c5_74e54313273elevel0_row1\" class=\"row_heading level0 row1\" >unique</th>\n",
       "                        <td id=\"T_0b8ce278_0ccb_11ec_99c5_74e54313273erow1_col0\" class=\"data row1 col0\" >351</td>\n",
       "                        <td id=\"T_0b8ce278_0ccb_11ec_99c5_74e54313273erow1_col1\" class=\"data row1 col1\" >248</td>\n",
       "                        <td id=\"T_0b8ce278_0ccb_11ec_99c5_74e54313273erow1_col2\" class=\"data row1 col2\" >2</td>\n",
       "            </tr>\n",
       "            <tr>\n",
       "                        <th id=\"T_0b8ce278_0ccb_11ec_99c5_74e54313273elevel0_row2\" class=\"row_heading level0 row2\" >top</th>\n",
       "                        <td id=\"T_0b8ce278_0ccb_11ec_99c5_74e54313273erow2_col0\" class=\"data row2 col0\" >Publication Manual of the American Psychological Association, 6th Edition</td>\n",
       "                        <td id=\"T_0b8ce278_0ccb_11ec_99c5_74e54313273erow2_col1\" class=\"data row2 col1\" >Jeff Kinney</td>\n",
       "                        <td id=\"T_0b8ce278_0ccb_11ec_99c5_74e54313273erow2_col2\" class=\"data row2 col2\" >Non Fiction</td>\n",
       "            </tr>\n",
       "            <tr>\n",
       "                        <th id=\"T_0b8ce278_0ccb_11ec_99c5_74e54313273elevel0_row3\" class=\"row_heading level0 row3\" >freq</th>\n",
       "                        <td id=\"T_0b8ce278_0ccb_11ec_99c5_74e54313273erow3_col0\" class=\"data row3 col0\" >10</td>\n",
       "                        <td id=\"T_0b8ce278_0ccb_11ec_99c5_74e54313273erow3_col1\" class=\"data row3 col1\" >12</td>\n",
       "                        <td id=\"T_0b8ce278_0ccb_11ec_99c5_74e54313273erow3_col2\" class=\"data row3 col2\" >310</td>\n",
       "            </tr>\n",
       "    </tbody></table>"
      ],
      "text/plain": [
       "<pandas.io.formats.style.Styler at 0xb0723d0>"
      ]
     },
     "execution_count": 6,
     "metadata": {},
     "output_type": "execute_result"
    }
   ],
   "source": [
    "df_new = df.describe(include = 'O')\n",
    "df_new.style.set_properties(subset=['Name'], **{'width': '300px'})"
   ]
  },
  {
   "cell_type": "markdown",
   "metadata": {},
   "source": [
    "There are 351 unique books in the list and the book \"Publication Manual of the American Psychological Association, 6th Edition\" is the most appeared book with the frequeny of 10.\n",
    "\n",
    "The Author \"Jeff Kinney\" is the most appeared author among 248 unique authors. This author is present 12 times in this dataset. Let's look at what books he has written in this list."
   ]
  },
  {
   "cell_type": "code",
   "execution_count": 7,
   "metadata": {},
   "outputs": [
    {
     "data": {
      "text/html": [
       "<div>\n",
       "<style scoped>\n",
       "    .dataframe tbody tr th:only-of-type {\n",
       "        vertical-align: middle;\n",
       "    }\n",
       "\n",
       "    .dataframe tbody tr th {\n",
       "        vertical-align: top;\n",
       "    }\n",
       "\n",
       "    .dataframe thead th {\n",
       "        text-align: right;\n",
       "    }\n",
       "</style>\n",
       "<table border=\"1\" class=\"dataframe\">\n",
       "  <thead>\n",
       "    <tr style=\"text-align: right;\">\n",
       "      <th></th>\n",
       "      <th>Name</th>\n",
       "      <th>Author</th>\n",
       "      <th>User Rating</th>\n",
       "      <th>Reviews</th>\n",
       "      <th>Price</th>\n",
       "      <th>Year</th>\n",
       "      <th>Genre</th>\n",
       "    </tr>\n",
       "  </thead>\n",
       "  <tbody>\n",
       "    <tr>\n",
       "      <th>271</th>\n",
       "      <td>Publication Manual of the American Psychologic...</td>\n",
       "      <td>American Psychological Association</td>\n",
       "      <td>4.5</td>\n",
       "      <td>8580</td>\n",
       "      <td>46</td>\n",
       "      <td>2009</td>\n",
       "      <td>Non Fiction</td>\n",
       "    </tr>\n",
       "    <tr>\n",
       "      <th>272</th>\n",
       "      <td>Publication Manual of the American Psychologic...</td>\n",
       "      <td>American Psychological Association</td>\n",
       "      <td>4.5</td>\n",
       "      <td>8580</td>\n",
       "      <td>46</td>\n",
       "      <td>2010</td>\n",
       "      <td>Non Fiction</td>\n",
       "    </tr>\n",
       "    <tr>\n",
       "      <th>273</th>\n",
       "      <td>Publication Manual of the American Psychologic...</td>\n",
       "      <td>American Psychological Association</td>\n",
       "      <td>4.5</td>\n",
       "      <td>8580</td>\n",
       "      <td>46</td>\n",
       "      <td>2011</td>\n",
       "      <td>Non Fiction</td>\n",
       "    </tr>\n",
       "    <tr>\n",
       "      <th>274</th>\n",
       "      <td>Publication Manual of the American Psychologic...</td>\n",
       "      <td>American Psychological Association</td>\n",
       "      <td>4.5</td>\n",
       "      <td>8580</td>\n",
       "      <td>46</td>\n",
       "      <td>2012</td>\n",
       "      <td>Non Fiction</td>\n",
       "    </tr>\n",
       "    <tr>\n",
       "      <th>275</th>\n",
       "      <td>Publication Manual of the American Psychologic...</td>\n",
       "      <td>American Psychological Association</td>\n",
       "      <td>4.5</td>\n",
       "      <td>8580</td>\n",
       "      <td>46</td>\n",
       "      <td>2013</td>\n",
       "      <td>Non Fiction</td>\n",
       "    </tr>\n",
       "    <tr>\n",
       "      <th>276</th>\n",
       "      <td>Publication Manual of the American Psychologic...</td>\n",
       "      <td>American Psychological Association</td>\n",
       "      <td>4.5</td>\n",
       "      <td>8580</td>\n",
       "      <td>46</td>\n",
       "      <td>2014</td>\n",
       "      <td>Non Fiction</td>\n",
       "    </tr>\n",
       "    <tr>\n",
       "      <th>277</th>\n",
       "      <td>Publication Manual of the American Psychologic...</td>\n",
       "      <td>American Psychological Association</td>\n",
       "      <td>4.5</td>\n",
       "      <td>8580</td>\n",
       "      <td>46</td>\n",
       "      <td>2015</td>\n",
       "      <td>Non Fiction</td>\n",
       "    </tr>\n",
       "    <tr>\n",
       "      <th>278</th>\n",
       "      <td>Publication Manual of the American Psychologic...</td>\n",
       "      <td>American Psychological Association</td>\n",
       "      <td>4.5</td>\n",
       "      <td>8580</td>\n",
       "      <td>46</td>\n",
       "      <td>2016</td>\n",
       "      <td>Non Fiction</td>\n",
       "    </tr>\n",
       "    <tr>\n",
       "      <th>279</th>\n",
       "      <td>Publication Manual of the American Psychologic...</td>\n",
       "      <td>American Psychological Association</td>\n",
       "      <td>4.5</td>\n",
       "      <td>8580</td>\n",
       "      <td>46</td>\n",
       "      <td>2017</td>\n",
       "      <td>Non Fiction</td>\n",
       "    </tr>\n",
       "    <tr>\n",
       "      <th>280</th>\n",
       "      <td>Publication Manual of the American Psychologic...</td>\n",
       "      <td>American Psychological Association</td>\n",
       "      <td>4.5</td>\n",
       "      <td>8580</td>\n",
       "      <td>46</td>\n",
       "      <td>2018</td>\n",
       "      <td>Non Fiction</td>\n",
       "    </tr>\n",
       "  </tbody>\n",
       "</table>\n",
       "</div>"
      ],
      "text/plain": [
       "                                                  Name  \\\n",
       "271  Publication Manual of the American Psychologic...   \n",
       "272  Publication Manual of the American Psychologic...   \n",
       "273  Publication Manual of the American Psychologic...   \n",
       "274  Publication Manual of the American Psychologic...   \n",
       "275  Publication Manual of the American Psychologic...   \n",
       "276  Publication Manual of the American Psychologic...   \n",
       "277  Publication Manual of the American Psychologic...   \n",
       "278  Publication Manual of the American Psychologic...   \n",
       "279  Publication Manual of the American Psychologic...   \n",
       "280  Publication Manual of the American Psychologic...   \n",
       "\n",
       "                                 Author  User Rating  Reviews  Price  Year  \\\n",
       "271  American Psychological Association          4.5     8580     46  2009   \n",
       "272  American Psychological Association          4.5     8580     46  2010   \n",
       "273  American Psychological Association          4.5     8580     46  2011   \n",
       "274  American Psychological Association          4.5     8580     46  2012   \n",
       "275  American Psychological Association          4.5     8580     46  2013   \n",
       "276  American Psychological Association          4.5     8580     46  2014   \n",
       "277  American Psychological Association          4.5     8580     46  2015   \n",
       "278  American Psychological Association          4.5     8580     46  2016   \n",
       "279  American Psychological Association          4.5     8580     46  2017   \n",
       "280  American Psychological Association          4.5     8580     46  2018   \n",
       "\n",
       "           Genre  \n",
       "271  Non Fiction  \n",
       "272  Non Fiction  \n",
       "273  Non Fiction  \n",
       "274  Non Fiction  \n",
       "275  Non Fiction  \n",
       "276  Non Fiction  \n",
       "277  Non Fiction  \n",
       "278  Non Fiction  \n",
       "279  Non Fiction  \n",
       "280  Non Fiction  "
      ]
     },
     "execution_count": 7,
     "metadata": {},
     "output_type": "execute_result"
    }
   ],
   "source": [
    "df[df['Name']=='Publication Manual of the American Psychological Association, 6th Edition']"
   ]
  },
  {
   "cell_type": "code",
   "execution_count": 8,
   "metadata": {},
   "outputs": [
    {
     "data": {
      "text/html": [
       "<div>\n",
       "<style scoped>\n",
       "    .dataframe tbody tr th:only-of-type {\n",
       "        vertical-align: middle;\n",
       "    }\n",
       "\n",
       "    .dataframe tbody tr th {\n",
       "        vertical-align: top;\n",
       "    }\n",
       "\n",
       "    .dataframe thead th {\n",
       "        text-align: right;\n",
       "    }\n",
       "</style>\n",
       "<table border=\"1\" class=\"dataframe\">\n",
       "  <thead>\n",
       "    <tr style=\"text-align: right;\">\n",
       "      <th></th>\n",
       "      <th>Name</th>\n",
       "      <th>Author</th>\n",
       "      <th>User Rating</th>\n",
       "      <th>Reviews</th>\n",
       "      <th>Price</th>\n",
       "      <th>Year</th>\n",
       "      <th>Genre</th>\n",
       "    </tr>\n",
       "  </thead>\n",
       "  <tbody>\n",
       "    <tr>\n",
       "      <th>72</th>\n",
       "      <td>Diary of a Wimpy Kid: The Last Straw (Book 3)</td>\n",
       "      <td>Jeff Kinney</td>\n",
       "      <td>4.8</td>\n",
       "      <td>3837</td>\n",
       "      <td>15</td>\n",
       "      <td>2009</td>\n",
       "      <td>Fiction</td>\n",
       "    </tr>\n",
       "    <tr>\n",
       "      <th>80</th>\n",
       "      <td>Dog Days (Diary of a Wimpy Kid, Book 4) (Volum...</td>\n",
       "      <td>Jeff Kinney</td>\n",
       "      <td>4.8</td>\n",
       "      <td>3181</td>\n",
       "      <td>12</td>\n",
       "      <td>2009</td>\n",
       "      <td>Fiction</td>\n",
       "    </tr>\n",
       "    <tr>\n",
       "      <th>474</th>\n",
       "      <td>The Ugly Truth (Diary of a Wimpy Kid, Book 5)</td>\n",
       "      <td>Jeff Kinney</td>\n",
       "      <td>4.8</td>\n",
       "      <td>3796</td>\n",
       "      <td>12</td>\n",
       "      <td>2010</td>\n",
       "      <td>Fiction</td>\n",
       "    </tr>\n",
       "    <tr>\n",
       "      <th>42</th>\n",
       "      <td>Cabin Fever (Diary of a Wimpy Kid, Book 6)</td>\n",
       "      <td>Jeff Kinney</td>\n",
       "      <td>4.8</td>\n",
       "      <td>4505</td>\n",
       "      <td>0</td>\n",
       "      <td>2011</td>\n",
       "      <td>Fiction</td>\n",
       "    </tr>\n",
       "    <tr>\n",
       "      <th>468</th>\n",
       "      <td>The Third Wheel (Diary of a Wimpy Kid, Book 7)</td>\n",
       "      <td>Jeff Kinney</td>\n",
       "      <td>4.7</td>\n",
       "      <td>6377</td>\n",
       "      <td>7</td>\n",
       "      <td>2012</td>\n",
       "      <td>Fiction</td>\n",
       "    </tr>\n",
       "    <tr>\n",
       "      <th>71</th>\n",
       "      <td>Diary of a Wimpy Kid: Hard Luck, Book 8</td>\n",
       "      <td>Jeff Kinney</td>\n",
       "      <td>4.8</td>\n",
       "      <td>6812</td>\n",
       "      <td>0</td>\n",
       "      <td>2013</td>\n",
       "      <td>Fiction</td>\n",
       "    </tr>\n",
       "    <tr>\n",
       "      <th>73</th>\n",
       "      <td>Diary of a Wimpy Kid: The Long Haul</td>\n",
       "      <td>Jeff Kinney</td>\n",
       "      <td>4.8</td>\n",
       "      <td>6540</td>\n",
       "      <td>22</td>\n",
       "      <td>2014</td>\n",
       "      <td>Fiction</td>\n",
       "    </tr>\n",
       "    <tr>\n",
       "      <th>253</th>\n",
       "      <td>Old School (Diary of a Wimpy Kid #10)</td>\n",
       "      <td>Jeff Kinney</td>\n",
       "      <td>4.8</td>\n",
       "      <td>6169</td>\n",
       "      <td>7</td>\n",
       "      <td>2015</td>\n",
       "      <td>Fiction</td>\n",
       "    </tr>\n",
       "    <tr>\n",
       "      <th>88</th>\n",
       "      <td>Double Down (Diary of a Wimpy Kid #11)</td>\n",
       "      <td>Jeff Kinney</td>\n",
       "      <td>4.8</td>\n",
       "      <td>5118</td>\n",
       "      <td>20</td>\n",
       "      <td>2016</td>\n",
       "      <td>Fiction</td>\n",
       "    </tr>\n",
       "    <tr>\n",
       "      <th>381</th>\n",
       "      <td>The Getaway</td>\n",
       "      <td>Jeff Kinney</td>\n",
       "      <td>4.8</td>\n",
       "      <td>5836</td>\n",
       "      <td>0</td>\n",
       "      <td>2017</td>\n",
       "      <td>Fiction</td>\n",
       "    </tr>\n",
       "    <tr>\n",
       "      <th>435</th>\n",
       "      <td>The Meltdown (Diary of a Wimpy Kid Book 13)</td>\n",
       "      <td>Jeff Kinney</td>\n",
       "      <td>4.8</td>\n",
       "      <td>5898</td>\n",
       "      <td>8</td>\n",
       "      <td>2018</td>\n",
       "      <td>Fiction</td>\n",
       "    </tr>\n",
       "    <tr>\n",
       "      <th>545</th>\n",
       "      <td>Wrecking Ball (Diary of a Wimpy Kid Book 14)</td>\n",
       "      <td>Jeff Kinney</td>\n",
       "      <td>4.9</td>\n",
       "      <td>9413</td>\n",
       "      <td>8</td>\n",
       "      <td>2019</td>\n",
       "      <td>Fiction</td>\n",
       "    </tr>\n",
       "  </tbody>\n",
       "</table>\n",
       "</div>"
      ],
      "text/plain": [
       "                                                  Name       Author  \\\n",
       "72       Diary of a Wimpy Kid: The Last Straw (Book 3)  Jeff Kinney   \n",
       "80   Dog Days (Diary of a Wimpy Kid, Book 4) (Volum...  Jeff Kinney   \n",
       "474      The Ugly Truth (Diary of a Wimpy Kid, Book 5)  Jeff Kinney   \n",
       "42          Cabin Fever (Diary of a Wimpy Kid, Book 6)  Jeff Kinney   \n",
       "468     The Third Wheel (Diary of a Wimpy Kid, Book 7)  Jeff Kinney   \n",
       "71             Diary of a Wimpy Kid: Hard Luck, Book 8  Jeff Kinney   \n",
       "73                 Diary of a Wimpy Kid: The Long Haul  Jeff Kinney   \n",
       "253              Old School (Diary of a Wimpy Kid #10)  Jeff Kinney   \n",
       "88              Double Down (Diary of a Wimpy Kid #11)  Jeff Kinney   \n",
       "381                                        The Getaway  Jeff Kinney   \n",
       "435        The Meltdown (Diary of a Wimpy Kid Book 13)  Jeff Kinney   \n",
       "545       Wrecking Ball (Diary of a Wimpy Kid Book 14)  Jeff Kinney   \n",
       "\n",
       "     User Rating  Reviews  Price  Year    Genre  \n",
       "72           4.8     3837     15  2009  Fiction  \n",
       "80           4.8     3181     12  2009  Fiction  \n",
       "474          4.8     3796     12  2010  Fiction  \n",
       "42           4.8     4505      0  2011  Fiction  \n",
       "468          4.7     6377      7  2012  Fiction  \n",
       "71           4.8     6812      0  2013  Fiction  \n",
       "73           4.8     6540     22  2014  Fiction  \n",
       "253          4.8     6169      7  2015  Fiction  \n",
       "88           4.8     5118     20  2016  Fiction  \n",
       "381          4.8     5836      0  2017  Fiction  \n",
       "435          4.8     5898      8  2018  Fiction  \n",
       "545          4.9     9413      8  2019  Fiction  "
      ]
     },
     "execution_count": 8,
     "metadata": {},
     "output_type": "execute_result"
    }
   ],
   "source": [
    "df[df['Author']==\"Jeff Kinney\"].sort_values('Year')"
   ]
  },
  {
   "cell_type": "markdown",
   "metadata": {},
   "source": [
    "Aha! Not a surprise at all! He is the author of 'Diary of a Wimpy Kid' series, which is very popular mostly among school children. The Long Haul is the 9th book of the series and was originally published in 2014. The Getaway is the 12th book of the series, originally publised in 2017. I checked couple of more books here and noticed that their published years perfectly match with the year in this dataset. It is fascinating to see how popular these books has been. Most of them have a User Rating of 4.8. Only two of them have fallen outside with the ratings of 4.7 and 4.9."
   ]
  },
  {
   "cell_type": "code",
   "execution_count": 9,
   "metadata": {},
   "outputs": [
    {
     "name": "stdout",
     "output_type": "stream",
     "text": [
      "Name            object\n",
      "Author          object\n",
      "User Rating    float64\n",
      "Reviews          int64\n",
      "Price            int64\n",
      "Year             int64\n",
      "Genre           object\n",
      "dtype: object\n"
     ]
    }
   ],
   "source": [
    "print(df.dtypes)"
   ]
  },
  {
   "cell_type": "code",
   "execution_count": 10,
   "metadata": {},
   "outputs": [
    {
     "data": {
      "text/plain": [
       "Name           0\n",
       "Author         0\n",
       "User Rating    0\n",
       "Reviews        0\n",
       "Price          0\n",
       "Year           0\n",
       "Genre          0\n",
       "dtype: int64"
      ]
     },
     "execution_count": 10,
     "metadata": {},
     "output_type": "execute_result"
    }
   ],
   "source": [
    "df.isnull().sum()"
   ]
  },
  {
   "cell_type": "markdown",
   "metadata": {},
   "source": [
    "There are no missing values in the dataset."
   ]
  },
  {
   "cell_type": "code",
   "execution_count": 11,
   "metadata": {},
   "outputs": [
    {
     "data": {
      "text/plain": [
       "0"
      ]
     },
     "execution_count": 11,
     "metadata": {},
     "output_type": "execute_result"
    }
   ],
   "source": [
    "#df.groupby('Year')[['Name']].count()\n",
    "df.duplicated().sum()"
   ]
  },
  {
   "cell_type": "markdown",
   "metadata": {},
   "source": [
    "There are no duplicate rows in the dataset."
   ]
  },
  {
   "cell_type": "code",
   "execution_count": 12,
   "metadata": {},
   "outputs": [
    {
     "data": {
      "text/plain": [
       "Index(['Name', 'Author', 'User Rating', 'Reviews', 'Price', 'Year', 'Genre'], dtype='object')"
      ]
     },
     "execution_count": 12,
     "metadata": {},
     "output_type": "execute_result"
    }
   ],
   "source": [
    "df.columns"
   ]
  },
  {
   "cell_type": "markdown",
   "metadata": {},
   "source": [
    "## Explore Reviews "
   ]
  },
  {
   "cell_type": "code",
   "execution_count": 13,
   "metadata": {},
   "outputs": [],
   "source": [
    "grouped_by_year = df.groupby('Year')\n",
    "avg_reviews = grouped_by_year['Reviews'].mean()\n",
    "avg_reviews = avg_reviews.reset_index()"
   ]
  },
  {
   "cell_type": "code",
   "execution_count": 14,
   "metadata": {},
   "outputs": [
    {
     "data": {
      "text/plain": [
       "0      4710.12\n",
       "1      5479.62\n",
       "2      8100.82\n",
       "3     13090.92\n",
       "4     13098.14\n",
       "5     15859.94\n",
       "6     14233.38\n",
       "7     14196.00\n",
       "8     12888.40\n",
       "9     13930.42\n",
       "10    15898.34\n",
       "Name: Reviews, dtype: float64"
      ]
     },
     "execution_count": 14,
     "metadata": {},
     "output_type": "execute_result"
    }
   ],
   "source": [
    "avg_reviews['Reviews']"
   ]
  },
  {
   "cell_type": "code",
   "execution_count": 15,
   "metadata": {},
   "outputs": [
    {
     "data": {
      "text/html": [
       "<div>\n",
       "<style scoped>\n",
       "    .dataframe tbody tr th:only-of-type {\n",
       "        vertical-align: middle;\n",
       "    }\n",
       "\n",
       "    .dataframe tbody tr th {\n",
       "        vertical-align: top;\n",
       "    }\n",
       "\n",
       "    .dataframe thead th {\n",
       "        text-align: right;\n",
       "    }\n",
       "</style>\n",
       "<table border=\"1\" class=\"dataframe\">\n",
       "  <thead>\n",
       "    <tr style=\"text-align: right;\">\n",
       "      <th></th>\n",
       "      <th>Name</th>\n",
       "      <th>Author</th>\n",
       "      <th>User Rating</th>\n",
       "      <th>Reviews</th>\n",
       "      <th>Price</th>\n",
       "      <th>Year</th>\n",
       "      <th>Genre</th>\n",
       "    </tr>\n",
       "  </thead>\n",
       "  <tbody>\n",
       "    <tr>\n",
       "      <th>459</th>\n",
       "      <td>The Shack: Where Tragedy Confronts Eternity</td>\n",
       "      <td>William P. Young</td>\n",
       "      <td>4.6</td>\n",
       "      <td>19720</td>\n",
       "      <td>8</td>\n",
       "      <td>2009</td>\n",
       "      <td>Fiction</td>\n",
       "    </tr>\n",
       "    <tr>\n",
       "      <th>407</th>\n",
       "      <td>The Hunger Games</td>\n",
       "      <td>Suzanne Collins</td>\n",
       "      <td>4.7</td>\n",
       "      <td>32122</td>\n",
       "      <td>14</td>\n",
       "      <td>2010</td>\n",
       "      <td>Fiction</td>\n",
       "    </tr>\n",
       "    <tr>\n",
       "      <th>408</th>\n",
       "      <td>The Hunger Games (Book 1)</td>\n",
       "      <td>Suzanne Collins</td>\n",
       "      <td>4.7</td>\n",
       "      <td>32122</td>\n",
       "      <td>8</td>\n",
       "      <td>2011</td>\n",
       "      <td>Fiction</td>\n",
       "    </tr>\n",
       "    <tr>\n",
       "      <th>135</th>\n",
       "      <td>Gone Girl</td>\n",
       "      <td>Gillian Flynn</td>\n",
       "      <td>4.0</td>\n",
       "      <td>57271</td>\n",
       "      <td>10</td>\n",
       "      <td>2012</td>\n",
       "      <td>Fiction</td>\n",
       "    </tr>\n",
       "    <tr>\n",
       "      <th>136</th>\n",
       "      <td>Gone Girl</td>\n",
       "      <td>Gillian Flynn</td>\n",
       "      <td>4.0</td>\n",
       "      <td>57271</td>\n",
       "      <td>10</td>\n",
       "      <td>2013</td>\n",
       "      <td>Fiction</td>\n",
       "    </tr>\n",
       "    <tr>\n",
       "      <th>137</th>\n",
       "      <td>Gone Girl</td>\n",
       "      <td>Gillian Flynn</td>\n",
       "      <td>4.0</td>\n",
       "      <td>57271</td>\n",
       "      <td>9</td>\n",
       "      <td>2014</td>\n",
       "      <td>Fiction</td>\n",
       "    </tr>\n",
       "    <tr>\n",
       "      <th>382</th>\n",
       "      <td>The Girl on the Train</td>\n",
       "      <td>Paula Hawkins</td>\n",
       "      <td>4.1</td>\n",
       "      <td>79446</td>\n",
       "      <td>18</td>\n",
       "      <td>2015</td>\n",
       "      <td>Fiction</td>\n",
       "    </tr>\n",
       "    <tr>\n",
       "      <th>383</th>\n",
       "      <td>The Girl on the Train</td>\n",
       "      <td>Paula Hawkins</td>\n",
       "      <td>4.1</td>\n",
       "      <td>79446</td>\n",
       "      <td>7</td>\n",
       "      <td>2016</td>\n",
       "      <td>Fiction</td>\n",
       "    </tr>\n",
       "    <tr>\n",
       "      <th>399</th>\n",
       "      <td>The Handmaid's Tale</td>\n",
       "      <td>Margaret Atwood</td>\n",
       "      <td>4.3</td>\n",
       "      <td>29442</td>\n",
       "      <td>7</td>\n",
       "      <td>2017</td>\n",
       "      <td>Fiction</td>\n",
       "    </tr>\n",
       "    <tr>\n",
       "      <th>32</th>\n",
       "      <td>Becoming</td>\n",
       "      <td>Michelle Obama</td>\n",
       "      <td>4.8</td>\n",
       "      <td>61133</td>\n",
       "      <td>11</td>\n",
       "      <td>2018</td>\n",
       "      <td>Non Fiction</td>\n",
       "    </tr>\n",
       "    <tr>\n",
       "      <th>534</th>\n",
       "      <td>Where the Crawdads Sing</td>\n",
       "      <td>Delia Owens</td>\n",
       "      <td>4.8</td>\n",
       "      <td>87841</td>\n",
       "      <td>15</td>\n",
       "      <td>2019</td>\n",
       "      <td>Fiction</td>\n",
       "    </tr>\n",
       "  </tbody>\n",
       "</table>\n",
       "</div>"
      ],
      "text/plain": [
       "                                            Name            Author  \\\n",
       "459  The Shack: Where Tragedy Confronts Eternity  William P. Young   \n",
       "407                             The Hunger Games   Suzanne Collins   \n",
       "408                    The Hunger Games (Book 1)   Suzanne Collins   \n",
       "135                                    Gone Girl     Gillian Flynn   \n",
       "136                                    Gone Girl     Gillian Flynn   \n",
       "137                                    Gone Girl     Gillian Flynn   \n",
       "382                        The Girl on the Train     Paula Hawkins   \n",
       "383                        The Girl on the Train     Paula Hawkins   \n",
       "399                          The Handmaid's Tale   Margaret Atwood   \n",
       "32                                      Becoming    Michelle Obama   \n",
       "534                      Where the Crawdads Sing       Delia Owens   \n",
       "\n",
       "     User Rating  Reviews  Price  Year        Genre  \n",
       "459          4.6    19720      8  2009      Fiction  \n",
       "407          4.7    32122     14  2010      Fiction  \n",
       "408          4.7    32122      8  2011      Fiction  \n",
       "135          4.0    57271     10  2012      Fiction  \n",
       "136          4.0    57271     10  2013      Fiction  \n",
       "137          4.0    57271      9  2014      Fiction  \n",
       "382          4.1    79446     18  2015      Fiction  \n",
       "383          4.1    79446      7  2016      Fiction  \n",
       "399          4.3    29442      7  2017      Fiction  \n",
       "32           4.8    61133     11  2018  Non Fiction  \n",
       "534          4.8    87841     15  2019      Fiction  "
      ]
     },
     "execution_count": 15,
     "metadata": {},
     "output_type": "execute_result"
    }
   ],
   "source": [
    "idx = df.groupby(['Year'])['Reviews'].transform(max) == df['Reviews']\n",
    "df1 = df[idx].sort_values(by=['Year'])\n",
    "df1"
   ]
  },
  {
   "cell_type": "markdown",
   "metadata": {},
   "source": [
    "The book \"Gone Girl\" by Gillian Flynn has had highest number of reviews for three consecutive years(2012, 2013, and 2014) while \"The girl on the Train\" by Paula Hawkins has obtained highest number of reviews for two consecutive years(2015 and 2016). One interesting thing is that the only nonfiction book in this list is the book called \"Becoming\" by Michelle Obama which is among the two books with User Rating of 4.8. It has been in the top list in 2018 and has the second highest number of reviews over the years. The book \"Where the Crawdads Sing\" has had the highest number of reviews in 2019 with rating of 4.8."
   ]
  },
  {
   "cell_type": "code",
   "execution_count": 16,
   "metadata": {},
   "outputs": [
    {
     "data": {
      "image/png": "[encoded data removed]",
      "text/plain": [
       "<Figure size 864x432 with 2 Axes>"
      ]
     },
     "metadata": {},
     "output_type": "display_data"
    }
   ],
   "source": [
    "plt.figure(figsize = (12,6))\n",
    "plt.subplot(1,2,1)\n",
    "plt.plot(df1['Year'], df1['Reviews'], color = 'b', marker = '*', linestyle = '-')\n",
    "plt.xticks(np.arange(min(df1['Year']), max(df['Year'])+1, 1.0))\n",
    "plt.xlabel('Year')\n",
    "plt.ylabel('Maximum Reviews')\n",
    "plt.title('Maximum number of reviews by year')\n",
    "\n",
    "plt.subplot(1,2,2)\n",
    "plt.plot(avg_reviews['Year'], avg_reviews['Reviews'], color = 'g', marker = '*', linestyle = '-')\n",
    "plt.xticks(np.arange(min(df1['Year']), max(df['Year'])+1, 1.0))\n",
    "plt.xlabel('Year')\n",
    "plt.ylabel('Average Reviews')\n",
    "plt.title('Average number of reviews by year')\n",
    "\n",
    "plt.show()"
   ]
  },
  {
   "cell_type": "markdown",
   "metadata": {},
   "source": [
    "Maximum number of reviews has been incresing or constant over the years 2009 to 2016, but in 2017 it has gone done considerably. However, in 2019, it has gone up and beyond of all the values. If we consider the average number of reviews, it has been increasing until 2014 and then declined until 2017, and then again have gone up in 2018 and more in 2019."
   ]
  },
  {
   "cell_type": "code",
   "execution_count": 17,
   "metadata": {},
   "outputs": [
    {
     "data": {
      "image/png": "[encoded data removed]",
      "text/plain": [
       "<Figure size 576x288 with 1 Axes>"
      ]
     },
     "metadata": {},
     "output_type": "display_data"
    }
   ],
   "source": [
    "plt.figure(figsize = (8,4))\n",
    "sns.lineplot(data=df, x=\"Year\", y=\"Reviews\", hue=\"Genre\", markers=True, style= \"Genre\")\n",
    "plt.xticks(np.arange(min(df['Year']), max(df['Year'])+1, 1.0))\n",
    "plt.show()"
   ]
  },
  {
   "cell_type": "markdown",
   "metadata": {},
   "source": [
    "Average number of reviews of non fiction books have been higher in each year except in 2018. Also, compared to the ranges of fiction, range of reviews of non fiction books have been higher especially in 2012, 2013, 2014, 2015, and 2016."
   ]
  },
  {
   "cell_type": "code",
   "execution_count": 18,
   "metadata": {},
   "outputs": [
    {
     "data": {
      "image/png": "[encoded data removed]",
      "text/plain": [
       "<Figure size 1080x432 with 3 Axes>"
      ]
     },
     "metadata": {},
     "output_type": "display_data"
    }
   ],
   "source": [
    "plt.figure(figsize = (15,6))\n",
    "plt.subplot(1,3,1)\n",
    "plt.scatter(df['Reviews'], df['User Rating'], marker = 'o')\n",
    "plt.xlabel('Reviews')\n",
    "plt.ylabel('User Rating')\n",
    "plt.title('User Rating with Reviews')\n",
    "\n",
    "plt.subplot(1,3,2)\n",
    "plt.scatter(df['Reviews'], df['Price'], color = 'g',marker = '*')\n",
    "plt.xlabel('Reviews')\n",
    "plt.ylabel('Price')\n",
    "plt.title('Price with Reviews')\n",
    "\n",
    "plt.subplot(1,3,3)\n",
    "plt.scatter(df['User Rating'], df['Price'], color = 'k',marker = '*')\n",
    "plt.xlabel('User Rating')\n",
    "plt.ylabel('Price')\n",
    "plt.title('Price with User Rating')\n",
    "plt.show()"
   ]
  },
  {
   "cell_type": "markdown",
   "metadata": {},
   "source": [
    "There doesn't seem to be correlations between User Rating, Price, and Reviews. However, few interesting things are visible.\n",
    " - Books with high user rating have reviews between 0 and 40000.\n",
    " - Most books has its price between 0 and 30 and their reviews between 0 and 40000.\n",
    " - Most of the books in the dataset has prices between 0 and 30."
   ]
  },
  {
   "cell_type": "code",
   "execution_count": 19,
   "metadata": {},
   "outputs": [
    {
     "data": {
      "text/html": [
       "<div>\n",
       "<style scoped>\n",
       "    .dataframe tbody tr th:only-of-type {\n",
       "        vertical-align: middle;\n",
       "    }\n",
       "\n",
       "    .dataframe tbody tr th {\n",
       "        vertical-align: top;\n",
       "    }\n",
       "\n",
       "    .dataframe thead th {\n",
       "        text-align: right;\n",
       "    }\n",
       "</style>\n",
       "<table border=\"1\" class=\"dataframe\">\n",
       "  <thead>\n",
       "    <tr style=\"text-align: right;\">\n",
       "      <th></th>\n",
       "      <th>Name</th>\n",
       "      <th>Author</th>\n",
       "      <th>User Rating</th>\n",
       "      <th>Reviews</th>\n",
       "      <th>Price</th>\n",
       "      <th>Year</th>\n",
       "      <th>Genre</th>\n",
       "    </tr>\n",
       "  </thead>\n",
       "  <tbody>\n",
       "    <tr>\n",
       "      <th>32</th>\n",
       "      <td>Becoming</td>\n",
       "      <td>Michelle Obama</td>\n",
       "      <td>4.8</td>\n",
       "      <td>61133</td>\n",
       "      <td>11</td>\n",
       "      <td>2018</td>\n",
       "      <td>Non Fiction</td>\n",
       "    </tr>\n",
       "    <tr>\n",
       "      <th>33</th>\n",
       "      <td>Becoming</td>\n",
       "      <td>Michelle Obama</td>\n",
       "      <td>4.8</td>\n",
       "      <td>61133</td>\n",
       "      <td>11</td>\n",
       "      <td>2019</td>\n",
       "      <td>Non Fiction</td>\n",
       "    </tr>\n",
       "    <tr>\n",
       "      <th>382</th>\n",
       "      <td>The Girl on the Train</td>\n",
       "      <td>Paula Hawkins</td>\n",
       "      <td>4.1</td>\n",
       "      <td>79446</td>\n",
       "      <td>18</td>\n",
       "      <td>2015</td>\n",
       "      <td>Fiction</td>\n",
       "    </tr>\n",
       "    <tr>\n",
       "      <th>383</th>\n",
       "      <td>The Girl on the Train</td>\n",
       "      <td>Paula Hawkins</td>\n",
       "      <td>4.1</td>\n",
       "      <td>79446</td>\n",
       "      <td>7</td>\n",
       "      <td>2016</td>\n",
       "      <td>Fiction</td>\n",
       "    </tr>\n",
       "    <tr>\n",
       "      <th>534</th>\n",
       "      <td>Where the Crawdads Sing</td>\n",
       "      <td>Delia Owens</td>\n",
       "      <td>4.8</td>\n",
       "      <td>87841</td>\n",
       "      <td>15</td>\n",
       "      <td>2019</td>\n",
       "      <td>Fiction</td>\n",
       "    </tr>\n",
       "  </tbody>\n",
       "</table>\n",
       "</div>"
      ],
      "text/plain": [
       "                        Name          Author  User Rating  Reviews  Price  \\\n",
       "32                  Becoming  Michelle Obama          4.8    61133     11   \n",
       "33                  Becoming  Michelle Obama          4.8    61133     11   \n",
       "382    The Girl on the Train   Paula Hawkins          4.1    79446     18   \n",
       "383    The Girl on the Train   Paula Hawkins          4.1    79446      7   \n",
       "534  Where the Crawdads Sing     Delia Owens          4.8    87841     15   \n",
       "\n",
       "     Year        Genre  \n",
       "32   2018  Non Fiction  \n",
       "33   2019  Non Fiction  \n",
       "382  2015      Fiction  \n",
       "383  2016      Fiction  \n",
       "534  2019      Fiction  "
      ]
     },
     "execution_count": 19,
     "metadata": {},
     "output_type": "execute_result"
    }
   ],
   "source": [
    "df.sort_values('Reviews').tail()"
   ]
  },
  {
   "cell_type": "markdown",
   "metadata": {},
   "source": [
    "The book 'Where the Crawdads Sing' by Delia Owens has the highest number of reviews with a user rating of 4.8."
   ]
  },
  {
   "cell_type": "markdown",
   "metadata": {},
   "source": [
    "## Explore User Rating "
   ]
  },
  {
   "cell_type": "code",
   "execution_count": 20,
   "metadata": {},
   "outputs": [
    {
     "data": {
      "text/html": [
       "<div>\n",
       "<style scoped>\n",
       "    .dataframe tbody tr th:only-of-type {\n",
       "        vertical-align: middle;\n",
       "    }\n",
       "\n",
       "    .dataframe tbody tr th {\n",
       "        vertical-align: top;\n",
       "    }\n",
       "\n",
       "    .dataframe thead th {\n",
       "        text-align: right;\n",
       "    }\n",
       "</style>\n",
       "<table border=\"1\" class=\"dataframe\">\n",
       "  <thead>\n",
       "    <tr style=\"text-align: right;\">\n",
       "      <th></th>\n",
       "      <th>Name</th>\n",
       "      <th>Author</th>\n",
       "      <th>User Rating</th>\n",
       "      <th>Reviews</th>\n",
       "      <th>Price</th>\n",
       "      <th>Year</th>\n",
       "      <th>Genre</th>\n",
       "    </tr>\n",
       "  </thead>\n",
       "  <tbody>\n",
       "    <tr>\n",
       "      <th>41</th>\n",
       "      <td>Brown Bear, Brown Bear, What Do You See?</td>\n",
       "      <td>Bill Martin Jr.</td>\n",
       "      <td>4.9</td>\n",
       "      <td>14344</td>\n",
       "      <td>5</td>\n",
       "      <td>2019</td>\n",
       "      <td>Fiction</td>\n",
       "    </tr>\n",
       "    <tr>\n",
       "      <th>40</th>\n",
       "      <td>Brown Bear, Brown Bear, What Do You See?</td>\n",
       "      <td>Bill Martin Jr.</td>\n",
       "      <td>4.9</td>\n",
       "      <td>14344</td>\n",
       "      <td>5</td>\n",
       "      <td>2017</td>\n",
       "      <td>Fiction</td>\n",
       "    </tr>\n",
       "    <tr>\n",
       "      <th>247</th>\n",
       "      <td>Oh, the Places You'll Go!</td>\n",
       "      <td>Dr. Seuss</td>\n",
       "      <td>4.9</td>\n",
       "      <td>21834</td>\n",
       "      <td>8</td>\n",
       "      <td>2014</td>\n",
       "      <td>Fiction</td>\n",
       "    </tr>\n",
       "    <tr>\n",
       "      <th>146</th>\n",
       "      <td>Goodnight, Goodnight Construction Site (Hardco...</td>\n",
       "      <td>Sherri Duskey Rinker</td>\n",
       "      <td>4.9</td>\n",
       "      <td>7038</td>\n",
       "      <td>7</td>\n",
       "      <td>2012</td>\n",
       "      <td>Fiction</td>\n",
       "    </tr>\n",
       "    <tr>\n",
       "      <th>249</th>\n",
       "      <td>Oh, the Places You'll Go!</td>\n",
       "      <td>Dr. Seuss</td>\n",
       "      <td>4.9</td>\n",
       "      <td>21834</td>\n",
       "      <td>8</td>\n",
       "      <td>2016</td>\n",
       "      <td>Fiction</td>\n",
       "    </tr>\n",
       "  </tbody>\n",
       "</table>\n",
       "</div>"
      ],
      "text/plain": [
       "                                                  Name                Author  \\\n",
       "41            Brown Bear, Brown Bear, What Do You See?       Bill Martin Jr.   \n",
       "40            Brown Bear, Brown Bear, What Do You See?       Bill Martin Jr.   \n",
       "247                          Oh, the Places You'll Go!             Dr. Seuss   \n",
       "146  Goodnight, Goodnight Construction Site (Hardco...  Sherri Duskey Rinker   \n",
       "249                          Oh, the Places You'll Go!             Dr. Seuss   \n",
       "\n",
       "     User Rating  Reviews  Price  Year    Genre  \n",
       "41           4.9    14344      5  2019  Fiction  \n",
       "40           4.9    14344      5  2017  Fiction  \n",
       "247          4.9    21834      8  2014  Fiction  \n",
       "146          4.9     7038      7  2012  Fiction  \n",
       "249          4.9    21834      8  2016  Fiction  "
      ]
     },
     "execution_count": 20,
     "metadata": {},
     "output_type": "execute_result"
    }
   ],
   "source": [
    "df.sort_values('User Rating').tail()"
   ]
  },
  {
   "cell_type": "markdown",
   "metadata": {},
   "source": [
    "There are 52 books with the highest user rating of 4.9"
   ]
  },
  {
   "cell_type": "code",
   "execution_count": 21,
   "metadata": {},
   "outputs": [
    {
     "data": {
      "text/plain": [
       "(52, 7)"
      ]
     },
     "execution_count": 21,
     "metadata": {},
     "output_type": "execute_result"
    }
   ],
   "source": [
    "df[df['User Rating']==4.9].shape"
   ]
  },
  {
   "cell_type": "code",
   "execution_count": 22,
   "metadata": {},
   "outputs": [
    {
     "data": {
      "image/png": "[encoded data removed]",
      "text/plain": [
       "<Figure size 576x288 with 1 Axes>"
      ]
     },
     "metadata": {},
     "output_type": "display_data"
    }
   ],
   "source": [
    "df2 = df.groupby('Year')['User Rating'].mean().reset_index()\n",
    "plt.figure(figsize = (8,4))\n",
    "plt.plot(df2['Year'], df2['User Rating'], color = 'b', marker = '*', linestyle = '-')\n",
    "plt.xticks(np.arange(min(df1['Year']), max(df['Year'])+1, 1.0))\n",
    "plt.xlabel('Year')\n",
    "plt.ylabel('Average User Rating')\n",
    "plt.title('Average User Rating by year')\n",
    "plt.show()"
   ]
  },
  {
   "cell_type": "markdown",
   "metadata": {},
   "source": [
    "Average User Rating has decling until the year 2012 and after that it has been increasing over the years."
   ]
  },
  {
   "cell_type": "code",
   "execution_count": 23,
   "metadata": {},
   "outputs": [
    {
     "data": {
      "image/png": "[encoded data removed]",
      "text/plain": [
       "<Figure size 576x288 with 1 Axes>"
      ]
     },
     "metadata": {},
     "output_type": "display_data"
    }
   ],
   "source": [
    "plt.figure(figsize = (8,4))\n",
    "sns.lineplot(data=df, x=\"Year\", y=\"User Rating\", hue=\"Genre\", markers=True, style= \"Genre\")\n",
    "plt.xticks(np.arange(min(df['Year']), max(df['Year'])+1, 1.0))\n",
    "plt.show()"
   ]
  },
  {
   "cell_type": "markdown",
   "metadata": {},
   "source": [
    "Average User Rating for fictions and non fictions have been close in 2009, but then average for fiction has been increasing while the average for non fiction books has been decreasing. In 2012, average user rating for fictions has gone below non fiction with a high range of user ratings. Since after 2014 Ratings for fiction has been increasing on top of non fiction books."
   ]
  },
  {
   "cell_type": "markdown",
   "metadata": {},
   "source": [
    "## Explore Price"
   ]
  },
  {
   "cell_type": "code",
   "execution_count": 24,
   "metadata": {},
   "outputs": [
    {
     "data": {
      "text/html": [
       "<div>\n",
       "<style scoped>\n",
       "    .dataframe tbody tr th:only-of-type {\n",
       "        vertical-align: middle;\n",
       "    }\n",
       "\n",
       "    .dataframe tbody tr th {\n",
       "        vertical-align: top;\n",
       "    }\n",
       "\n",
       "    .dataframe thead th {\n",
       "        text-align: right;\n",
       "    }\n",
       "</style>\n",
       "<table border=\"1\" class=\"dataframe\">\n",
       "  <thead>\n",
       "    <tr style=\"text-align: right;\">\n",
       "      <th></th>\n",
       "      <th>User Rating</th>\n",
       "      <th>Reviews</th>\n",
       "      <th>Price</th>\n",
       "      <th>Year</th>\n",
       "    </tr>\n",
       "    <tr>\n",
       "      <th>Name</th>\n",
       "      <th></th>\n",
       "      <th></th>\n",
       "      <th></th>\n",
       "      <th></th>\n",
       "    </tr>\n",
       "  </thead>\n",
       "  <tbody>\n",
       "    <tr>\n",
       "      <th>Harry Potter Paperback Box Set (Books 1-7)</th>\n",
       "      <td>4.8</td>\n",
       "      <td>13471.0</td>\n",
       "      <td>52.0</td>\n",
       "      <td>2016.0</td>\n",
       "    </tr>\n",
       "    <tr>\n",
       "      <th>The Book of Basketball: The NBA According to The Sports Guy</th>\n",
       "      <td>4.7</td>\n",
       "      <td>858.0</td>\n",
       "      <td>53.0</td>\n",
       "      <td>2009.0</td>\n",
       "    </tr>\n",
       "    <tr>\n",
       "      <th>Hamilton: The Revolution</th>\n",
       "      <td>4.9</td>\n",
       "      <td>5867.0</td>\n",
       "      <td>54.0</td>\n",
       "      <td>2016.0</td>\n",
       "    </tr>\n",
       "    <tr>\n",
       "      <th>The Twilight Saga Collection</th>\n",
       "      <td>4.7</td>\n",
       "      <td>3801.0</td>\n",
       "      <td>82.0</td>\n",
       "      <td>2009.0</td>\n",
       "    </tr>\n",
       "    <tr>\n",
       "      <th>Diagnostic and Statistical Manual of Mental Disorders, 5th Edition: DSM-5</th>\n",
       "      <td>4.5</td>\n",
       "      <td>6679.0</td>\n",
       "      <td>105.0</td>\n",
       "      <td>2013.5</td>\n",
       "    </tr>\n",
       "  </tbody>\n",
       "</table>\n",
       "</div>"
      ],
      "text/plain": [
       "                                                    User Rating  Reviews  \\\n",
       "Name                                                                       \n",
       "Harry Potter Paperback Box Set (Books 1-7)                  4.8  13471.0   \n",
       "The Book of Basketball: The NBA According to Th...          4.7    858.0   \n",
       "Hamilton: The Revolution                                    4.9   5867.0   \n",
       "The Twilight Saga Collection                                4.7   3801.0   \n",
       "Diagnostic and Statistical Manual of Mental Dis...          4.5   6679.0   \n",
       "\n",
       "                                                    Price    Year  \n",
       "Name                                                               \n",
       "Harry Potter Paperback Box Set (Books 1-7)           52.0  2016.0  \n",
       "The Book of Basketball: The NBA According to Th...   53.0  2009.0  \n",
       "Hamilton: The Revolution                             54.0  2016.0  \n",
       "The Twilight Saga Collection                         82.0  2009.0  \n",
       "Diagnostic and Statistical Manual of Mental Dis...  105.0  2013.5  "
      ]
     },
     "execution_count": 24,
     "metadata": {},
     "output_type": "execute_result"
    }
   ],
   "source": [
    "df.groupby('Name').mean().sort_values('Price').tail()"
   ]
  },
  {
   "cell_type": "markdown",
   "metadata": {},
   "source": [
    "These are the books with top five prices in the list."
   ]
  },
  {
   "cell_type": "code",
   "execution_count": 25,
   "metadata": {},
   "outputs": [
    {
     "data": {
      "image/png": "[encoded data removed]",
      "text/plain": [
       "<Figure size 576x288 with 1 Axes>"
      ]
     },
     "metadata": {},
     "output_type": "display_data"
    }
   ],
   "source": [
    "plt.figure(figsize = (8,4))\n",
    "sns.lineplot(data=df, x=\"Year\", y=\"Price\", hue=\"Genre\", markers=True, style= \"Genre\")\n",
    "plt.xticks(np.arange(min(df['Year']), max(df['Year'])+1, 1.0))\n",
    "plt.show()"
   ]
  },
  {
   "cell_type": "markdown",
   "metadata": {},
   "source": [
    "Average price of Nonfiction book is higher than a fiction for all those years."
   ]
  },
  {
   "cell_type": "markdown",
   "metadata": {},
   "source": [
    "## Explore Name"
   ]
  },
  {
   "cell_type": "code",
   "execution_count": 26,
   "metadata": {},
   "outputs": [
    {
     "data": {
      "text/plain": [
       "Publication Manual of the American Psychological Association, 6th Edition       10\n",
       "StrengthsFinder 2.0                                                              9\n",
       "Oh, the Places You'll Go!                                                        8\n",
       "The Very Hungry Caterpillar                                                      7\n",
       "The 7 Habits of Highly Effective People: Powerful Lessons in Personal Change     7\n",
       "Name: Name, dtype: int64"
      ]
     },
     "execution_count": 26,
     "metadata": {},
     "output_type": "execute_result"
    }
   ],
   "source": [
    "df['Name'].value_counts().head()"
   ]
  },
  {
   "cell_type": "markdown",
   "metadata": {},
   "source": [
    "These are the top 5 most appearing books on the dataset."
   ]
  },
  {
   "cell_type": "code",
   "execution_count": 27,
   "metadata": {},
   "outputs": [
    {
     "data": {
      "text/html": [
       "<div>\n",
       "<style scoped>\n",
       "    .dataframe tbody tr th:only-of-type {\n",
       "        vertical-align: middle;\n",
       "    }\n",
       "\n",
       "    .dataframe tbody tr th {\n",
       "        vertical-align: top;\n",
       "    }\n",
       "\n",
       "    .dataframe thead th {\n",
       "        text-align: right;\n",
       "    }\n",
       "</style>\n",
       "<table border=\"1\" class=\"dataframe\">\n",
       "  <thead>\n",
       "    <tr style=\"text-align: right;\">\n",
       "      <th></th>\n",
       "      <th>Name</th>\n",
       "      <th>Author</th>\n",
       "      <th>User Rating</th>\n",
       "      <th>Reviews</th>\n",
       "      <th>Price</th>\n",
       "      <th>Year</th>\n",
       "      <th>Genre</th>\n",
       "    </tr>\n",
       "  </thead>\n",
       "  <tbody>\n",
       "    <tr>\n",
       "      <th>271</th>\n",
       "      <td>Publication Manual of the American Psychologic...</td>\n",
       "      <td>American Psychological Association</td>\n",
       "      <td>4.5</td>\n",
       "      <td>8580</td>\n",
       "      <td>46</td>\n",
       "      <td>2009</td>\n",
       "      <td>Non Fiction</td>\n",
       "    </tr>\n",
       "    <tr>\n",
       "      <th>272</th>\n",
       "      <td>Publication Manual of the American Psychologic...</td>\n",
       "      <td>American Psychological Association</td>\n",
       "      <td>4.5</td>\n",
       "      <td>8580</td>\n",
       "      <td>46</td>\n",
       "      <td>2010</td>\n",
       "      <td>Non Fiction</td>\n",
       "    </tr>\n",
       "    <tr>\n",
       "      <th>273</th>\n",
       "      <td>Publication Manual of the American Psychologic...</td>\n",
       "      <td>American Psychological Association</td>\n",
       "      <td>4.5</td>\n",
       "      <td>8580</td>\n",
       "      <td>46</td>\n",
       "      <td>2011</td>\n",
       "      <td>Non Fiction</td>\n",
       "    </tr>\n",
       "    <tr>\n",
       "      <th>274</th>\n",
       "      <td>Publication Manual of the American Psychologic...</td>\n",
       "      <td>American Psychological Association</td>\n",
       "      <td>4.5</td>\n",
       "      <td>8580</td>\n",
       "      <td>46</td>\n",
       "      <td>2012</td>\n",
       "      <td>Non Fiction</td>\n",
       "    </tr>\n",
       "    <tr>\n",
       "      <th>275</th>\n",
       "      <td>Publication Manual of the American Psychologic...</td>\n",
       "      <td>American Psychological Association</td>\n",
       "      <td>4.5</td>\n",
       "      <td>8580</td>\n",
       "      <td>46</td>\n",
       "      <td>2013</td>\n",
       "      <td>Non Fiction</td>\n",
       "    </tr>\n",
       "    <tr>\n",
       "      <th>276</th>\n",
       "      <td>Publication Manual of the American Psychologic...</td>\n",
       "      <td>American Psychological Association</td>\n",
       "      <td>4.5</td>\n",
       "      <td>8580</td>\n",
       "      <td>46</td>\n",
       "      <td>2014</td>\n",
       "      <td>Non Fiction</td>\n",
       "    </tr>\n",
       "    <tr>\n",
       "      <th>277</th>\n",
       "      <td>Publication Manual of the American Psychologic...</td>\n",
       "      <td>American Psychological Association</td>\n",
       "      <td>4.5</td>\n",
       "      <td>8580</td>\n",
       "      <td>46</td>\n",
       "      <td>2015</td>\n",
       "      <td>Non Fiction</td>\n",
       "    </tr>\n",
       "    <tr>\n",
       "      <th>278</th>\n",
       "      <td>Publication Manual of the American Psychologic...</td>\n",
       "      <td>American Psychological Association</td>\n",
       "      <td>4.5</td>\n",
       "      <td>8580</td>\n",
       "      <td>46</td>\n",
       "      <td>2016</td>\n",
       "      <td>Non Fiction</td>\n",
       "    </tr>\n",
       "    <tr>\n",
       "      <th>279</th>\n",
       "      <td>Publication Manual of the American Psychologic...</td>\n",
       "      <td>American Psychological Association</td>\n",
       "      <td>4.5</td>\n",
       "      <td>8580</td>\n",
       "      <td>46</td>\n",
       "      <td>2017</td>\n",
       "      <td>Non Fiction</td>\n",
       "    </tr>\n",
       "    <tr>\n",
       "      <th>280</th>\n",
       "      <td>Publication Manual of the American Psychologic...</td>\n",
       "      <td>American Psychological Association</td>\n",
       "      <td>4.5</td>\n",
       "      <td>8580</td>\n",
       "      <td>46</td>\n",
       "      <td>2018</td>\n",
       "      <td>Non Fiction</td>\n",
       "    </tr>\n",
       "  </tbody>\n",
       "</table>\n",
       "</div>"
      ],
      "text/plain": [
       "                                                  Name  \\\n",
       "271  Publication Manual of the American Psychologic...   \n",
       "272  Publication Manual of the American Psychologic...   \n",
       "273  Publication Manual of the American Psychologic...   \n",
       "274  Publication Manual of the American Psychologic...   \n",
       "275  Publication Manual of the American Psychologic...   \n",
       "276  Publication Manual of the American Psychologic...   \n",
       "277  Publication Manual of the American Psychologic...   \n",
       "278  Publication Manual of the American Psychologic...   \n",
       "279  Publication Manual of the American Psychologic...   \n",
       "280  Publication Manual of the American Psychologic...   \n",
       "\n",
       "                                 Author  User Rating  Reviews  Price  Year  \\\n",
       "271  American Psychological Association          4.5     8580     46  2009   \n",
       "272  American Psychological Association          4.5     8580     46  2010   \n",
       "273  American Psychological Association          4.5     8580     46  2011   \n",
       "274  American Psychological Association          4.5     8580     46  2012   \n",
       "275  American Psychological Association          4.5     8580     46  2013   \n",
       "276  American Psychological Association          4.5     8580     46  2014   \n",
       "277  American Psychological Association          4.5     8580     46  2015   \n",
       "278  American Psychological Association          4.5     8580     46  2016   \n",
       "279  American Psychological Association          4.5     8580     46  2017   \n",
       "280  American Psychological Association          4.5     8580     46  2018   \n",
       "\n",
       "           Genre  \n",
       "271  Non Fiction  \n",
       "272  Non Fiction  \n",
       "273  Non Fiction  \n",
       "274  Non Fiction  \n",
       "275  Non Fiction  \n",
       "276  Non Fiction  \n",
       "277  Non Fiction  \n",
       "278  Non Fiction  \n",
       "279  Non Fiction  \n",
       "280  Non Fiction  "
      ]
     },
     "execution_count": 27,
     "metadata": {},
     "output_type": "execute_result"
    }
   ],
   "source": [
    "df[df['Name'] == 'Publication Manual of the American Psychological Association, 6th Edition']"
   ]
  },
  {
   "cell_type": "code",
   "execution_count": 28,
   "metadata": {},
   "outputs": [
    {
     "data": {
      "text/html": [
       "<div>\n",
       "<style scoped>\n",
       "    .dataframe tbody tr th:only-of-type {\n",
       "        vertical-align: middle;\n",
       "    }\n",
       "\n",
       "    .dataframe tbody tr th {\n",
       "        vertical-align: top;\n",
       "    }\n",
       "\n",
       "    .dataframe thead th {\n",
       "        text-align: right;\n",
       "    }\n",
       "</style>\n",
       "<table border=\"1\" class=\"dataframe\">\n",
       "  <thead>\n",
       "    <tr style=\"text-align: right;\">\n",
       "      <th></th>\n",
       "      <th>Name</th>\n",
       "      <th>Author</th>\n",
       "      <th>User Rating</th>\n",
       "      <th>Reviews</th>\n",
       "      <th>Price</th>\n",
       "      <th>Year</th>\n",
       "      <th>Genre</th>\n",
       "    </tr>\n",
       "  </thead>\n",
       "  <tbody>\n",
       "    <tr>\n",
       "      <th>304</th>\n",
       "      <td>StrengthsFinder 2.0</td>\n",
       "      <td>Gallup</td>\n",
       "      <td>4.0</td>\n",
       "      <td>5069</td>\n",
       "      <td>17</td>\n",
       "      <td>2009</td>\n",
       "      <td>Non Fiction</td>\n",
       "    </tr>\n",
       "    <tr>\n",
       "      <th>305</th>\n",
       "      <td>StrengthsFinder 2.0</td>\n",
       "      <td>Gallup</td>\n",
       "      <td>4.0</td>\n",
       "      <td>5069</td>\n",
       "      <td>17</td>\n",
       "      <td>2010</td>\n",
       "      <td>Non Fiction</td>\n",
       "    </tr>\n",
       "    <tr>\n",
       "      <th>306</th>\n",
       "      <td>StrengthsFinder 2.0</td>\n",
       "      <td>Gallup</td>\n",
       "      <td>4.0</td>\n",
       "      <td>5069</td>\n",
       "      <td>17</td>\n",
       "      <td>2011</td>\n",
       "      <td>Non Fiction</td>\n",
       "    </tr>\n",
       "    <tr>\n",
       "      <th>307</th>\n",
       "      <td>StrengthsFinder 2.0</td>\n",
       "      <td>Gallup</td>\n",
       "      <td>4.0</td>\n",
       "      <td>5069</td>\n",
       "      <td>17</td>\n",
       "      <td>2012</td>\n",
       "      <td>Non Fiction</td>\n",
       "    </tr>\n",
       "    <tr>\n",
       "      <th>308</th>\n",
       "      <td>StrengthsFinder 2.0</td>\n",
       "      <td>Gallup</td>\n",
       "      <td>4.0</td>\n",
       "      <td>5069</td>\n",
       "      <td>17</td>\n",
       "      <td>2013</td>\n",
       "      <td>Non Fiction</td>\n",
       "    </tr>\n",
       "    <tr>\n",
       "      <th>309</th>\n",
       "      <td>StrengthsFinder 2.0</td>\n",
       "      <td>Gallup</td>\n",
       "      <td>4.0</td>\n",
       "      <td>5069</td>\n",
       "      <td>17</td>\n",
       "      <td>2014</td>\n",
       "      <td>Non Fiction</td>\n",
       "    </tr>\n",
       "    <tr>\n",
       "      <th>310</th>\n",
       "      <td>StrengthsFinder 2.0</td>\n",
       "      <td>Gallup</td>\n",
       "      <td>4.0</td>\n",
       "      <td>5069</td>\n",
       "      <td>17</td>\n",
       "      <td>2015</td>\n",
       "      <td>Non Fiction</td>\n",
       "    </tr>\n",
       "    <tr>\n",
       "      <th>311</th>\n",
       "      <td>StrengthsFinder 2.0</td>\n",
       "      <td>Gallup</td>\n",
       "      <td>4.0</td>\n",
       "      <td>5069</td>\n",
       "      <td>17</td>\n",
       "      <td>2016</td>\n",
       "      <td>Non Fiction</td>\n",
       "    </tr>\n",
       "    <tr>\n",
       "      <th>312</th>\n",
       "      <td>StrengthsFinder 2.0</td>\n",
       "      <td>Gallup</td>\n",
       "      <td>4.0</td>\n",
       "      <td>5069</td>\n",
       "      <td>17</td>\n",
       "      <td>2017</td>\n",
       "      <td>Non Fiction</td>\n",
       "    </tr>\n",
       "  </tbody>\n",
       "</table>\n",
       "</div>"
      ],
      "text/plain": [
       "                    Name  Author  User Rating  Reviews  Price  Year  \\\n",
       "304  StrengthsFinder 2.0  Gallup          4.0     5069     17  2009   \n",
       "305  StrengthsFinder 2.0  Gallup          4.0     5069     17  2010   \n",
       "306  StrengthsFinder 2.0  Gallup          4.0     5069     17  2011   \n",
       "307  StrengthsFinder 2.0  Gallup          4.0     5069     17  2012   \n",
       "308  StrengthsFinder 2.0  Gallup          4.0     5069     17  2013   \n",
       "309  StrengthsFinder 2.0  Gallup          4.0     5069     17  2014   \n",
       "310  StrengthsFinder 2.0  Gallup          4.0     5069     17  2015   \n",
       "311  StrengthsFinder 2.0  Gallup          4.0     5069     17  2016   \n",
       "312  StrengthsFinder 2.0  Gallup          4.0     5069     17  2017   \n",
       "\n",
       "           Genre  \n",
       "304  Non Fiction  \n",
       "305  Non Fiction  \n",
       "306  Non Fiction  \n",
       "307  Non Fiction  \n",
       "308  Non Fiction  \n",
       "309  Non Fiction  \n",
       "310  Non Fiction  \n",
       "311  Non Fiction  \n",
       "312  Non Fiction  "
      ]
     },
     "execution_count": 28,
     "metadata": {},
     "output_type": "execute_result"
    }
   ],
   "source": [
    "df[df['Name'] == 'StrengthsFinder 2.0']"
   ]
  },
  {
   "cell_type": "code",
   "execution_count": 29,
   "metadata": {},
   "outputs": [
    {
     "data": {
      "text/html": [
       "<div>\n",
       "<style scoped>\n",
       "    .dataframe tbody tr th:only-of-type {\n",
       "        vertical-align: middle;\n",
       "    }\n",
       "\n",
       "    .dataframe tbody tr th {\n",
       "        vertical-align: top;\n",
       "    }\n",
       "\n",
       "    .dataframe thead th {\n",
       "        text-align: right;\n",
       "    }\n",
       "</style>\n",
       "<table border=\"1\" class=\"dataframe\">\n",
       "  <thead>\n",
       "    <tr style=\"text-align: right;\">\n",
       "      <th></th>\n",
       "      <th>Name</th>\n",
       "      <th>Author</th>\n",
       "      <th>User Rating</th>\n",
       "      <th>Reviews</th>\n",
       "      <th>Price</th>\n",
       "      <th>Year</th>\n",
       "      <th>Genre</th>\n",
       "    </tr>\n",
       "  </thead>\n",
       "  <tbody>\n",
       "    <tr>\n",
       "      <th>245</th>\n",
       "      <td>Oh, the Places You'll Go!</td>\n",
       "      <td>Dr. Seuss</td>\n",
       "      <td>4.9</td>\n",
       "      <td>21834</td>\n",
       "      <td>8</td>\n",
       "      <td>2012</td>\n",
       "      <td>Fiction</td>\n",
       "    </tr>\n",
       "    <tr>\n",
       "      <th>246</th>\n",
       "      <td>Oh, the Places You'll Go!</td>\n",
       "      <td>Dr. Seuss</td>\n",
       "      <td>4.9</td>\n",
       "      <td>21834</td>\n",
       "      <td>8</td>\n",
       "      <td>2013</td>\n",
       "      <td>Fiction</td>\n",
       "    </tr>\n",
       "    <tr>\n",
       "      <th>247</th>\n",
       "      <td>Oh, the Places You'll Go!</td>\n",
       "      <td>Dr. Seuss</td>\n",
       "      <td>4.9</td>\n",
       "      <td>21834</td>\n",
       "      <td>8</td>\n",
       "      <td>2014</td>\n",
       "      <td>Fiction</td>\n",
       "    </tr>\n",
       "    <tr>\n",
       "      <th>248</th>\n",
       "      <td>Oh, the Places You'll Go!</td>\n",
       "      <td>Dr. Seuss</td>\n",
       "      <td>4.9</td>\n",
       "      <td>21834</td>\n",
       "      <td>8</td>\n",
       "      <td>2015</td>\n",
       "      <td>Fiction</td>\n",
       "    </tr>\n",
       "    <tr>\n",
       "      <th>249</th>\n",
       "      <td>Oh, the Places You'll Go!</td>\n",
       "      <td>Dr. Seuss</td>\n",
       "      <td>4.9</td>\n",
       "      <td>21834</td>\n",
       "      <td>8</td>\n",
       "      <td>2016</td>\n",
       "      <td>Fiction</td>\n",
       "    </tr>\n",
       "    <tr>\n",
       "      <th>250</th>\n",
       "      <td>Oh, the Places You'll Go!</td>\n",
       "      <td>Dr. Seuss</td>\n",
       "      <td>4.9</td>\n",
       "      <td>21834</td>\n",
       "      <td>8</td>\n",
       "      <td>2017</td>\n",
       "      <td>Fiction</td>\n",
       "    </tr>\n",
       "    <tr>\n",
       "      <th>251</th>\n",
       "      <td>Oh, the Places You'll Go!</td>\n",
       "      <td>Dr. Seuss</td>\n",
       "      <td>4.9</td>\n",
       "      <td>21834</td>\n",
       "      <td>8</td>\n",
       "      <td>2018</td>\n",
       "      <td>Fiction</td>\n",
       "    </tr>\n",
       "    <tr>\n",
       "      <th>252</th>\n",
       "      <td>Oh, the Places You'll Go!</td>\n",
       "      <td>Dr. Seuss</td>\n",
       "      <td>4.9</td>\n",
       "      <td>21834</td>\n",
       "      <td>8</td>\n",
       "      <td>2019</td>\n",
       "      <td>Fiction</td>\n",
       "    </tr>\n",
       "  </tbody>\n",
       "</table>\n",
       "</div>"
      ],
      "text/plain": [
       "                          Name     Author  User Rating  Reviews  Price  Year  \\\n",
       "245  Oh, the Places You'll Go!  Dr. Seuss          4.9    21834      8  2012   \n",
       "246  Oh, the Places You'll Go!  Dr. Seuss          4.9    21834      8  2013   \n",
       "247  Oh, the Places You'll Go!  Dr. Seuss          4.9    21834      8  2014   \n",
       "248  Oh, the Places You'll Go!  Dr. Seuss          4.9    21834      8  2015   \n",
       "249  Oh, the Places You'll Go!  Dr. Seuss          4.9    21834      8  2016   \n",
       "250  Oh, the Places You'll Go!  Dr. Seuss          4.9    21834      8  2017   \n",
       "251  Oh, the Places You'll Go!  Dr. Seuss          4.9    21834      8  2018   \n",
       "252  Oh, the Places You'll Go!  Dr. Seuss          4.9    21834      8  2019   \n",
       "\n",
       "       Genre  \n",
       "245  Fiction  \n",
       "246  Fiction  \n",
       "247  Fiction  \n",
       "248  Fiction  \n",
       "249  Fiction  \n",
       "250  Fiction  \n",
       "251  Fiction  \n",
       "252  Fiction  "
      ]
     },
     "execution_count": 29,
     "metadata": {},
     "output_type": "execute_result"
    }
   ],
   "source": [
    "df[df['Name']==\"Oh, the Places You'll Go!\"]"
   ]
  },
  {
   "cell_type": "markdown",
   "metadata": {},
   "source": [
    "# Explore Author"
   ]
  },
  {
   "cell_type": "code",
   "execution_count": 30,
   "metadata": {},
   "outputs": [
    {
     "data": {
      "text/plain": [
       "Jeff Kinney                           12\n",
       "Gary Chapman                          11\n",
       "Rick Riordan                          11\n",
       "Suzanne Collins                       11\n",
       "American Psychological Association    10\n",
       "Name: Author, dtype: int64"
      ]
     },
     "execution_count": 30,
     "metadata": {},
     "output_type": "execute_result"
    }
   ],
   "source": [
    "df['Author'].value_counts().head()"
   ]
  },
  {
   "cell_type": "markdown",
   "metadata": {},
   "source": [
    "Here is the top 5 authors appearing most in the dataset."
   ]
  },
  {
   "cell_type": "markdown",
   "metadata": {},
   "source": [
    "## Explore Genre"
   ]
  },
  {
   "cell_type": "code",
   "execution_count": 31,
   "metadata": {},
   "outputs": [
    {
     "data": {
      "text/plain": [
       "Non Fiction    0.563636\n",
       "Fiction        0.436364\n",
       "Name: Genre, dtype: float64"
      ]
     },
     "execution_count": 31,
     "metadata": {},
     "output_type": "execute_result"
    }
   ],
   "source": [
    "df['Genre'].value_counts(1)"
   ]
  },
  {
   "cell_type": "markdown",
   "metadata": {},
   "source": [
    "56% of the books in the dataset are non fictions and 44% of them are fictions."
   ]
  },
  {
   "cell_type": "code",
   "execution_count": 32,
   "metadata": {},
   "outputs": [
    {
     "data": {
      "image/png": "[encoded data removed]",
      "text/plain": [
       "<Figure size 576x288 with 1 Axes>"
      ]
     },
     "metadata": {},
     "output_type": "display_data"
    }
   ],
   "source": [
    "plt.figure(figsize = (8,4))\n",
    "\n",
    "g = sns.countplot(data=df, x=\"Genre\", palette = 'husl')\n",
    "\n",
    "plt.title('Genre Count')\n",
    "plt.show()"
   ]
  },
  {
   "cell_type": "code",
   "execution_count": 33,
   "metadata": {},
   "outputs": [
    {
     "data": {
      "image/png": "[encoded data removed]",
      "text/plain": [
       "<Figure size 720x288 with 1 Axes>"
      ]
     },
     "metadata": {},
     "output_type": "display_data"
    }
   ],
   "source": [
    "plt.figure(figsize = (10,4))\n",
    "\n",
    "g = sns.countplot(data=df, x=\"Year\", hue=\"Genre\", palette = 'husl')\n",
    "\n",
    "plt.title('Comparison of Genre by Year')\n",
    "plt.show()"
   ]
  },
  {
   "cell_type": "markdown",
   "metadata": {},
   "source": [
    "Count of non fiction books is higher in each year except in 2014. The gap has been smaller in years 2009, 2013, and 2017."
   ]
  },
  {
   "cell_type": "code",
   "execution_count": 34,
   "metadata": {},
   "outputs": [
    {
     "data": {
      "text/html": [
       "<div>\n",
       "<style scoped>\n",
       "    .dataframe tbody tr th:only-of-type {\n",
       "        vertical-align: middle;\n",
       "    }\n",
       "\n",
       "    .dataframe tbody tr th {\n",
       "        vertical-align: top;\n",
       "    }\n",
       "\n",
       "    .dataframe thead th {\n",
       "        text-align: right;\n",
       "    }\n",
       "</style>\n",
       "<table border=\"1\" class=\"dataframe\">\n",
       "  <thead>\n",
       "    <tr style=\"text-align: right;\">\n",
       "      <th></th>\n",
       "      <th>User Rating</th>\n",
       "      <th>Reviews</th>\n",
       "      <th>Price</th>\n",
       "      <th>Year</th>\n",
       "    </tr>\n",
       "    <tr>\n",
       "      <th>Genre</th>\n",
       "      <th></th>\n",
       "      <th></th>\n",
       "      <th></th>\n",
       "      <th></th>\n",
       "    </tr>\n",
       "  </thead>\n",
       "  <tbody>\n",
       "    <tr>\n",
       "      <th>Fiction</th>\n",
       "      <td>4.648333</td>\n",
       "      <td>15683.791667</td>\n",
       "      <td>10.850000</td>\n",
       "      <td>2013.925000</td>\n",
       "    </tr>\n",
       "    <tr>\n",
       "      <th>Non Fiction</th>\n",
       "      <td>4.595161</td>\n",
       "      <td>9065.145161</td>\n",
       "      <td>14.841935</td>\n",
       "      <td>2014.058065</td>\n",
       "    </tr>\n",
       "  </tbody>\n",
       "</table>\n",
       "</div>"
      ],
      "text/plain": [
       "             User Rating       Reviews      Price         Year\n",
       "Genre                                                         \n",
       "Fiction         4.648333  15683.791667  10.850000  2013.925000\n",
       "Non Fiction     4.595161   9065.145161  14.841935  2014.058065"
      ]
     },
     "execution_count": 34,
     "metadata": {},
     "output_type": "execute_result"
    }
   ],
   "source": [
    "df.groupby('Genre').mean()"
   ]
  },
  {
   "cell_type": "markdown",
   "metadata": {},
   "source": [
    "Average user rating and reviews is high for fiction but average price is lower than that of a non fiction."
   ]
  },
  {
   "cell_type": "code",
   "execution_count": 35,
   "metadata": {},
   "outputs": [
    {
     "data": {
      "image/png": "[encoded data removed]",
      "text/plain": [
       "<Figure size 864x720 with 1 Axes>"
      ]
     },
     "metadata": {},
     "output_type": "display_data"
    }
   ],
   "source": [
    "plt.figure(figsize = (12,10))\n",
    "ax = sns.boxplot(x= 'Year', y=\"Price\", hue ='Genre', data=df, palette=\"Set3\")"
   ]
  },
  {
   "cell_type": "code",
   "execution_count": 36,
   "metadata": {},
   "outputs": [
    {
     "data": {
      "image/png": "[encoded data removed]",
      "text/plain": [
       "<Figure size 864x720 with 1 Axes>"
      ]
     },
     "metadata": {},
     "output_type": "display_data"
    }
   ],
   "source": [
    "plt.figure(figsize = (12,10))\n",
    "ax = sns.boxplot(x=\"Year\", y=\"User Rating\", hue=\"Genre\", data=df, palette=\"Set3\")\n",
    "plt.legend(loc='lower right')\n",
    "plt.title('User Ratings by each year group by Genre')\n",
    "plt.show()"
   ]
  },
  {
   "cell_type": "code",
   "execution_count": 37,
   "metadata": {},
   "outputs": [
    {
     "data": {
      "image/png": "[encoded data removed]",
      "text/plain": [
       "<Figure size 864x720 with 1 Axes>"
      ]
     },
     "metadata": {},
     "output_type": "display_data"
    }
   ],
   "source": [
    "plt.figure(figsize = (12,10))\n",
    "ax = sns.boxplot(x=\"Year\", y=\"Reviews\", hue=\"Genre\", data=df, palette=\"Set3\")\n",
    "plt.legend(loc='lower right')\n",
    "plt.title('Reviews for each year group by Genre')\n",
    "plt.show()"
   ]
  },
  {
   "cell_type": "code",
   "execution_count": 38,
   "metadata": {},
   "outputs": [],
   "source": [
    "df_numerical = df[['User Rating', 'Reviews', 'Price', 'Genre']]"
   ]
  },
  {
   "cell_type": "code",
   "execution_count": 39,
   "metadata": {},
   "outputs": [
    {
     "data": {
      "text/plain": [
       "<Figure size 1080x720 with 0 Axes>"
      ]
     },
     "metadata": {},
     "output_type": "display_data"
    },
    {
     "data": {
      "image/png": "[encoded data removed]",
      "text/plain": [
       "<Figure size 635.35x540 with 12 Axes>"
      ]
     },
     "metadata": {},
     "output_type": "display_data"
    }
   ],
   "source": [
    "plt.figure(figsize = (15,10))\n",
    "sns.pairplot(df_numerical, hue = 'Genre')\n",
    "plt.show()"
   ]
  },
  {
   "cell_type": "markdown",
   "metadata": {},
   "source": [
    "Distributions with reviews and price are right skewed while the user rating distriburion is left skewed."
   ]
  },
  {
   "cell_type": "markdown",
   "metadata": {},
   "source": [
    "### Key Observations "
   ]
  },
  {
   "cell_type": "markdown",
   "metadata": {},
   "source": [
    "  - Number of Non fictions are high in total. And it has been high in individual years as well except in the year 2014.\n",
    "  - Majority of the books are low in price, low in number of reviews, but have higher user ratings.\n",
    "  - 2014 has been an interesing year. why?\n",
    "      - 33% (4 out of 12) of free books were given in 2014\n",
    "      - Has a peak in average number of reviews in 2014\n",
    "      - Has the highest differences in average prices between fictions and nonfictions.\n",
    "      - Count of fiction books are higher than non fictions only in 2014.\n",
    "  - Amazon has offered free books over the years 2009 to 2019.\n",
    "  - The Author Jeff Kinney has been in the top 50 list for all year from 2009 to 2019. He is the author of diary of a wimpy kid book series. All his books has been in the list in the year they got published."
   ]
  },
  {
   "cell_type": "markdown",
   "metadata": {},
   "source": [
    "Average price of a non fiction book is higher than average price of fiction book. We can use hypothesis testing check if it is statistically significant."
   ]
  },
  {
   "cell_type": "code",
   "execution_count": null,
   "metadata": {},
   "outputs": [],
   "source": []
  }
 ],
 "metadata": {
  "kernelspec": {
   "display_name": "Python 3",
   "language": "python",
   "name": "python3"
  },
  "language_info": {
   "codemirror_mode": {
    "name": "ipython",
    "version": 3
   },
   "file_extension": ".py",
   "mimetype": "text/x-python",
   "name": "python",
   "nbconvert_exporter": "python",
   "pygments_lexer": "ipython3",
   "version": "3.8.5"
  }
 },
 "nbformat": 4,
 "nbformat_minor": 4
}
